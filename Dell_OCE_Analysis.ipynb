{
  "nbformat": 4,
  "nbformat_minor": 0,
  "metadata": {
    "colab": {
      "name": "Dell OCE Analysis.ipynb",
      "provenance": [],
      "collapsed_sections": [],
      "toc_visible": true,
      "authorship_tag": "ABX9TyNsMQ5X3YMRQ24TKfWOFa5W",
      "include_colab_link": true
    },
    "kernelspec": {
      "name": "python3",
      "display_name": "Python 3"
    },
    "language_info": {
      "name": "python"
    }
  },
  "cells": [
    {
      "cell_type": "markdown",
      "metadata": {
        "id": "view-in-github",
        "colab_type": "text"
      },
      "source": [
        "<a href=\"https://colab.research.google.com/github/ayjiang97/Projects/blob/master/Dell_OCE_Analysis.ipynb\" target=\"_parent\"><img src=\"https://colab.research.google.com/assets/colab-badge.svg\" alt=\"Open In Colab\"/></a>"
      ]
    },
    {
      "cell_type": "markdown",
      "metadata": {
        "id": "jUqWOPzG8NDv"
      },
      "source": [
        "\n",
        "# Online Cluster Expansion (OCE) Analysis"
      ]
    },
    {
      "cell_type": "code",
      "metadata": {
        "id": "Cu3B9skrQhQs"
      },
      "source": [
        "import numpy as np\n",
        "import pandas as pd\n",
        "import seaborn as sns"
      ],
      "execution_count": 87,
      "outputs": []
    },
    {
      "cell_type": "code",
      "metadata": {
        "colab": {
          "base_uri": "https://localhost:8080/"
        },
        "id": "np_xzH_A8Dcm",
        "outputId": "f7bc52af-99e1-4f17-eeb3-c08e01fa1bf6"
      },
      "source": [
        "from google.colab import drive\n",
        "drive.mount('/content/drive')"
      ],
      "execution_count": 88,
      "outputs": [
        {
          "output_type": "stream",
          "text": [
            "Drive already mounted at /content/drive; to attempt to forcibly remount, call drive.mount(\"/content/drive\", force_remount=True).\n"
          ],
          "name": "stdout"
        }
      ]
    },
    {
      "cell_type": "markdown",
      "metadata": {
        "id": "gyiFowtFWvST"
      },
      "source": [
        "### Data Overview"
      ]
    },
    {
      "cell_type": "code",
      "metadata": {
        "colab": {
          "base_uri": "https://localhost:8080/"
        },
        "id": "0zHFqCHZOsMR",
        "outputId": "e9e22cc5-c283-491d-ae70-442e03eb233e"
      },
      "source": [
        "path = '/content/drive/MyDrive/R0682026_v1.1.xlsx'\n",
        "df = pd.read_excel(path)\n",
        "df.shape"
      ],
      "execution_count": 89,
      "outputs": [
        {
          "output_type": "execute_result",
          "data": {
            "text/plain": [
              "(868, 5)"
            ]
          },
          "metadata": {
            "tags": []
          },
          "execution_count": 89
        }
      ]
    },
    {
      "cell_type": "code",
      "metadata": {
        "colab": {
          "base_uri": "https://localhost:8080/",
          "height": 195
        },
        "id": "dFSAcRJzWjCZ",
        "outputId": "1fea2260-3bdc-4ed8-8f2d-04002b7622de"
      },
      "source": [
        "# data preview\n",
        "df.head()"
      ],
      "execution_count": 90,
      "outputs": [
        {
          "output_type": "execute_result",
          "data": {
            "text/html": [
              "<div>\n",
              "<style scoped>\n",
              "    .dataframe tbody tr th:only-of-type {\n",
              "        vertical-align: middle;\n",
              "    }\n",
              "\n",
              "    .dataframe tbody tr th {\n",
              "        vertical-align: top;\n",
              "    }\n",
              "\n",
              "    .dataframe thead th {\n",
              "        text-align: right;\n",
              "    }\n",
              "</style>\n",
              "<table border=\"1\" class=\"dataframe\">\n",
              "  <thead>\n",
              "    <tr style=\"text-align: right;\">\n",
              "      <th></th>\n",
              "      <th>Identifier</th>\n",
              "      <th>Software Version</th>\n",
              "      <th>Starting X-Brick Count</th>\n",
              "      <th>New X-Brick Count</th>\n",
              "      <th>Theater</th>\n",
              "    </tr>\n",
              "  </thead>\n",
              "  <tbody>\n",
              "    <tr>\n",
              "      <th>0</th>\n",
              "      <td>APM00142902156</td>\n",
              "      <td>4.0.0-64</td>\n",
              "      <td>2</td>\n",
              "      <td>4</td>\n",
              "      <td>Americas CS Theater</td>\n",
              "    </tr>\n",
              "    <tr>\n",
              "      <th>1</th>\n",
              "      <td>APM00150502641</td>\n",
              "      <td>4.0.15-15</td>\n",
              "      <td>1</td>\n",
              "      <td>2</td>\n",
              "      <td>Americas CS Theater</td>\n",
              "    </tr>\n",
              "    <tr>\n",
              "      <th>2</th>\n",
              "      <td>FNM00161800189</td>\n",
              "      <td>4.0.15-20</td>\n",
              "      <td>1</td>\n",
              "      <td>2</td>\n",
              "      <td>Americas CS Theater</td>\n",
              "    </tr>\n",
              "    <tr>\n",
              "      <th>3</th>\n",
              "      <td>FNM00160100226</td>\n",
              "      <td>4.0.15-15</td>\n",
              "      <td>4</td>\n",
              "      <td>8</td>\n",
              "      <td>Americas CS Theater</td>\n",
              "    </tr>\n",
              "    <tr>\n",
              "      <th>4</th>\n",
              "      <td>FNM00153600616</td>\n",
              "      <td>4.0.15-20</td>\n",
              "      <td>6</td>\n",
              "      <td>8</td>\n",
              "      <td>Americas CS Theater</td>\n",
              "    </tr>\n",
              "  </tbody>\n",
              "</table>\n",
              "</div>"
            ],
            "text/plain": [
              "       Identifier Software Version  ...  New X-Brick Count              Theater\n",
              "0  APM00142902156         4.0.0-64  ...                  4  Americas CS Theater\n",
              "1  APM00150502641        4.0.15-15  ...                  2  Americas CS Theater\n",
              "2  FNM00161800189        4.0.15-20  ...                  2  Americas CS Theater\n",
              "3  FNM00160100226        4.0.15-15  ...                  8  Americas CS Theater\n",
              "4  FNM00153600616        4.0.15-20  ...                  8  Americas CS Theater\n",
              "\n",
              "[5 rows x 5 columns]"
            ]
          },
          "metadata": {
            "tags": []
          },
          "execution_count": 90
        }
      ]
    },
    {
      "cell_type": "code",
      "metadata": {
        "colab": {
          "base_uri": "https://localhost:8080/"
        },
        "id": "45OeMK6XjLmL",
        "outputId": "ed422109-2bca-4356-fa15-c45a56ba16c3"
      },
      "source": [
        "# check missing value -- no missing \n",
        "df.info()"
      ],
      "execution_count": 91,
      "outputs": [
        {
          "output_type": "stream",
          "text": [
            "<class 'pandas.core.frame.DataFrame'>\n",
            "RangeIndex: 868 entries, 0 to 867\n",
            "Data columns (total 5 columns):\n",
            " #   Column                  Non-Null Count  Dtype \n",
            "---  ------                  --------------  ----- \n",
            " 0   Identifier              868 non-null    object\n",
            " 1   Software Version        868 non-null    object\n",
            " 2   Starting X-Brick Count  868 non-null    int64 \n",
            " 3   New X-Brick Count       868 non-null    int64 \n",
            " 4   Theater                 868 non-null    object\n",
            "dtypes: int64(2), object(3)\n",
            "memory usage: 34.0+ KB\n"
          ],
          "name": "stdout"
        }
      ]
    },
    {
      "cell_type": "code",
      "metadata": {
        "colab": {
          "base_uri": "https://localhost:8080/"
        },
        "id": "vN2uYEt-VSlT",
        "outputId": "ecb800e5-a4c2-4016-f6d2-aee287960290"
      },
      "source": [
        "# initial software version check \n",
        "df['Software Version'].value_counts().sort_index()"
      ],
      "execution_count": 92,
      "outputs": [
        {
          "output_type": "execute_result",
          "data": {
            "text/plain": [
              "4.0.0-64               5\n",
              "4.0.1-41              25\n",
              "4.0.1-41_hotfix_1     17\n",
              "4.0.1-7                9\n",
              "4.0.10-33             27\n",
              "4.0.15-15             88\n",
              "4.0.15-20            141\n",
              "4.0.15-24            151\n",
              "4.0.2-65              12\n",
              "4.0.2-80             208\n",
              "4.0.2-80_hotfix_1      1\n",
              "4.0.25-22             17\n",
              "4.0.25-27             27\n",
              "4.0.4-28              58\n",
              "4.0.4-41              82\n",
              "Name: Software Version, dtype: int64"
            ]
          },
          "metadata": {
            "tags": []
          },
          "execution_count": 92
        }
      ]
    },
    {
      "cell_type": "markdown",
      "metadata": {
        "id": "MIdrhQ8XWymo"
      },
      "source": [
        "### Data Cleaning"
      ]
    },
    {
      "cell_type": "code",
      "metadata": {
        "colab": {
          "base_uri": "https://localhost:8080/"
        },
        "id": "ppRbv4WUb396",
        "outputId": "a10d14d9-f528-49ac-c751-2409688b45b8"
      },
      "source": [
        "# remove duplicates\n",
        "df.drop_duplicates(inplace=True)\n",
        "df.shape    # (868) -> (811): removed 57 duplicates"
      ],
      "execution_count": 93,
      "outputs": [
        {
          "output_type": "execute_result",
          "data": {
            "text/plain": [
              "(811, 5)"
            ]
          },
          "metadata": {
            "tags": []
          },
          "execution_count": 93
        }
      ]
    },
    {
      "cell_type": "code",
      "metadata": {
        "id": "dD3ZAnc3zehG"
      },
      "source": [
        "# exclude unrelated verstions\n",
        "unrelated_version = ['4.0.15-15','4.0.15-20','4.0.15-24','4.0.25-22','4.0.25-27'] \n",
        "df = df[~df['Software Version'].isin(unrelated_version)]"
      ],
      "execution_count": 94,
      "outputs": []
    },
    {
      "cell_type": "code",
      "metadata": {
        "id": "ZU-QSGyna-T2"
      },
      "source": [
        "# remove Starting X-Brick == 1\n",
        "df = df[df['Starting X-Brick Count'] != 1]"
      ],
      "execution_count": 109,
      "outputs": []
    },
    {
      "cell_type": "code",
      "metadata": {
        "colab": {
          "base_uri": "https://localhost:8080/"
        },
        "id": "J_CzpFcbX7pt",
        "outputId": "d7385554-72b4-4860-d8b4-d2bbcddddf0e"
      },
      "source": [
        "# double check the software version distribution\n",
        "df['Software Version'].value_counts().sort_index()"
      ],
      "execution_count": 110,
      "outputs": [
        {
          "output_type": "execute_result",
          "data": {
            "text/plain": [
              "4.0.0-64              2\n",
              "4.0.1-41             18\n",
              "4.0.1-41_hotfix_1    12\n",
              "4.0.1-7               5\n",
              "4.0.10-33            13\n",
              "4.0.2-65              3\n",
              "4.0.2-80             84\n",
              "4.0.4-28             16\n",
              "4.0.4-41             38\n",
              "Name: Software Version, dtype: int64"
            ]
          },
          "metadata": {
            "tags": []
          },
          "execution_count": 110
        }
      ]
    },
    {
      "cell_type": "code",
      "metadata": {
        "colab": {
          "base_uri": "https://localhost:8080/"
        },
        "id": "4UKKe1sTXyv9",
        "outputId": "d732cd69-5c00-44a2-a8da-eacd5ef3fd51"
      },
      "source": [
        "# the data frame has 195 rows only after filtering\n",
        "df.shape"
      ],
      "execution_count": 111,
      "outputs": [
        {
          "output_type": "execute_result",
          "data": {
            "text/plain": [
              "(191, 6)"
            ]
          },
          "metadata": {
            "tags": []
          },
          "execution_count": 111
        }
      ]
    },
    {
      "cell_type": "code",
      "metadata": {
        "colab": {
          "base_uri": "https://localhost:8080/",
          "height": 195
        },
        "id": "6ksgoOMqQ0er",
        "outputId": "ebda5b67-321f-4ad3-98d4-fae0cbcefacd"
      },
      "source": [
        "df.head()"
      ],
      "execution_count": 112,
      "outputs": [
        {
          "output_type": "execute_result",
          "data": {
            "text/html": [
              "<div>\n",
              "<style scoped>\n",
              "    .dataframe tbody tr th:only-of-type {\n",
              "        vertical-align: middle;\n",
              "    }\n",
              "\n",
              "    .dataframe tbody tr th {\n",
              "        vertical-align: top;\n",
              "    }\n",
              "\n",
              "    .dataframe thead th {\n",
              "        text-align: right;\n",
              "    }\n",
              "</style>\n",
              "<table border=\"1\" class=\"dataframe\">\n",
              "  <thead>\n",
              "    <tr style=\"text-align: right;\">\n",
              "      <th></th>\n",
              "      <th>Identifier</th>\n",
              "      <th>Software Version</th>\n",
              "      <th>Starting X-Brick Count</th>\n",
              "      <th>New X-Brick Count</th>\n",
              "      <th>Theater</th>\n",
              "      <th>expansion</th>\n",
              "    </tr>\n",
              "  </thead>\n",
              "  <tbody>\n",
              "    <tr>\n",
              "      <th>0</th>\n",
              "      <td>APM00142902156</td>\n",
              "      <td>4.0.0-64</td>\n",
              "      <td>2</td>\n",
              "      <td>4</td>\n",
              "      <td>Americas CS Theater</td>\n",
              "      <td>(2, 4)</td>\n",
              "    </tr>\n",
              "    <tr>\n",
              "      <th>11</th>\n",
              "      <td>CKM00151700613</td>\n",
              "      <td>4.0.0-64</td>\n",
              "      <td>2</td>\n",
              "      <td>4</td>\n",
              "      <td>EMEA CS Theater</td>\n",
              "      <td>(2, 4)</td>\n",
              "    </tr>\n",
              "    <tr>\n",
              "      <th>12</th>\n",
              "      <td>CKM00155101347</td>\n",
              "      <td>4.0.10-33</td>\n",
              "      <td>2</td>\n",
              "      <td>4</td>\n",
              "      <td>APJK CS Theater</td>\n",
              "      <td>(2, 4)</td>\n",
              "    </tr>\n",
              "    <tr>\n",
              "      <th>13</th>\n",
              "      <td>APM00144709196</td>\n",
              "      <td>4.0.10-33</td>\n",
              "      <td>4</td>\n",
              "      <td>6</td>\n",
              "      <td>Americas CS Theater</td>\n",
              "      <td>(4, 6)</td>\n",
              "    </tr>\n",
              "    <tr>\n",
              "      <th>18</th>\n",
              "      <td>FNM00160100020</td>\n",
              "      <td>4.0.10-33</td>\n",
              "      <td>2</td>\n",
              "      <td>4</td>\n",
              "      <td>Americas CS Theater</td>\n",
              "      <td>(2, 4)</td>\n",
              "    </tr>\n",
              "  </tbody>\n",
              "</table>\n",
              "</div>"
            ],
            "text/plain": [
              "        Identifier Software Version  ...              Theater  expansion\n",
              "0   APM00142902156         4.0.0-64  ...  Americas CS Theater     (2, 4)\n",
              "11  CKM00151700613         4.0.0-64  ...      EMEA CS Theater     (2, 4)\n",
              "12  CKM00155101347        4.0.10-33  ...      APJK CS Theater     (2, 4)\n",
              "13  APM00144709196        4.0.10-33  ...  Americas CS Theater     (4, 6)\n",
              "18  FNM00160100020        4.0.10-33  ...  Americas CS Theater     (2, 4)\n",
              "\n",
              "[5 rows x 6 columns]"
            ]
          },
          "metadata": {
            "tags": []
          },
          "execution_count": 112
        }
      ]
    },
    {
      "cell_type": "code",
      "metadata": {
        "colab": {
          "base_uri": "https://localhost:8080/"
        },
        "id": "tWFtHkApdxTw",
        "outputId": "9ac9a220-aab6-4a49-d93d-f923bf949a55"
      },
      "source": [
        "# check software distribution in theater \n",
        "df.Theater.value_counts()"
      ],
      "execution_count": 113,
      "outputs": [
        {
          "output_type": "execute_result",
          "data": {
            "text/plain": [
              "Americas CS Theater    157\n",
              "EMEA CS Theater         27\n",
              "APJK CS Theater          7\n",
              "Name: Theater, dtype: int64"
            ]
          },
          "metadata": {
            "tags": []
          },
          "execution_count": 113
        }
      ]
    },
    {
      "cell_type": "markdown",
      "metadata": {
        "id": "2dIHsHUFuURc"
      },
      "source": [
        "EMEA = Europe, the Middle East and Africa\n",
        "\n",
        "APJK = Asia Pacific, Japan and Korea"
      ]
    },
    {
      "cell_type": "markdown",
      "metadata": {
        "id": "9zj57b-o2dEF"
      },
      "source": [
        "### Release History Date"
      ]
    },
    {
      "cell_type": "code",
      "metadata": {
        "id": "MVka1Ch8cXJC"
      },
      "source": [
        "release = [['4.0.0-64','30-Sep-15'],['4.0.1-41','15-Oct-15'],['4.0.2-80','23-Dec-15'],\n",
        "           ['4.0.4-41','28-Apr-16'],['4.0.10-33','30-Jun-16']]"
      ],
      "execution_count": 114,
      "outputs": []
    },
    {
      "cell_type": "code",
      "metadata": {
        "colab": {
          "base_uri": "https://localhost:8080/",
          "height": 195
        },
        "id": "dpWnXNksdo_w",
        "outputId": "6bd87ea9-02d6-4b68-e407-4f7680788ffc"
      },
      "source": [
        "release_history = pd.DataFrame(release, columns = ['Software Version', 'Release Date'])\n",
        "release_history"
      ],
      "execution_count": 115,
      "outputs": [
        {
          "output_type": "execute_result",
          "data": {
            "text/html": [
              "<div>\n",
              "<style scoped>\n",
              "    .dataframe tbody tr th:only-of-type {\n",
              "        vertical-align: middle;\n",
              "    }\n",
              "\n",
              "    .dataframe tbody tr th {\n",
              "        vertical-align: top;\n",
              "    }\n",
              "\n",
              "    .dataframe thead th {\n",
              "        text-align: right;\n",
              "    }\n",
              "</style>\n",
              "<table border=\"1\" class=\"dataframe\">\n",
              "  <thead>\n",
              "    <tr style=\"text-align: right;\">\n",
              "      <th></th>\n",
              "      <th>Software Version</th>\n",
              "      <th>Release Date</th>\n",
              "    </tr>\n",
              "  </thead>\n",
              "  <tbody>\n",
              "    <tr>\n",
              "      <th>0</th>\n",
              "      <td>4.0.0-64</td>\n",
              "      <td>30-Sep-15</td>\n",
              "    </tr>\n",
              "    <tr>\n",
              "      <th>1</th>\n",
              "      <td>4.0.1-41</td>\n",
              "      <td>15-Oct-15</td>\n",
              "    </tr>\n",
              "    <tr>\n",
              "      <th>2</th>\n",
              "      <td>4.0.2-80</td>\n",
              "      <td>23-Dec-15</td>\n",
              "    </tr>\n",
              "    <tr>\n",
              "      <th>3</th>\n",
              "      <td>4.0.4-41</td>\n",
              "      <td>28-Apr-16</td>\n",
              "    </tr>\n",
              "    <tr>\n",
              "      <th>4</th>\n",
              "      <td>4.0.10-33</td>\n",
              "      <td>30-Jun-16</td>\n",
              "    </tr>\n",
              "  </tbody>\n",
              "</table>\n",
              "</div>"
            ],
            "text/plain": [
              "  Software Version Release Date\n",
              "0         4.0.0-64    30-Sep-15\n",
              "1         4.0.1-41    15-Oct-15\n",
              "2         4.0.2-80    23-Dec-15\n",
              "3         4.0.4-41    28-Apr-16\n",
              "4        4.0.10-33    30-Jun-16"
            ]
          },
          "metadata": {
            "tags": []
          },
          "execution_count": 115
        }
      ]
    },
    {
      "cell_type": "markdown",
      "metadata": {
        "id": "lK25Fpqa2gLA"
      },
      "source": [
        "### Expasion"
      ]
    },
    {
      "cell_type": "code",
      "metadata": {
        "colab": {
          "base_uri": "https://localhost:8080/",
          "height": 195
        },
        "id": "IVXMJYuiZa-K",
        "outputId": "660ee801-f31a-4f43-e5ef-c7c64bdec627"
      },
      "source": [
        "# create a new column 'expansion' to store X-Brick info in tuple\n",
        "df['expansion'] = list(zip(df['Starting X-Brick Count'], df['New X-Brick Count']))\n",
        "df.sample(5)"
      ],
      "execution_count": 117,
      "outputs": [
        {
          "output_type": "execute_result",
          "data": {
            "text/html": [
              "<div>\n",
              "<style scoped>\n",
              "    .dataframe tbody tr th:only-of-type {\n",
              "        vertical-align: middle;\n",
              "    }\n",
              "\n",
              "    .dataframe tbody tr th {\n",
              "        vertical-align: top;\n",
              "    }\n",
              "\n",
              "    .dataframe thead th {\n",
              "        text-align: right;\n",
              "    }\n",
              "</style>\n",
              "<table border=\"1\" class=\"dataframe\">\n",
              "  <thead>\n",
              "    <tr style=\"text-align: right;\">\n",
              "      <th></th>\n",
              "      <th>Identifier</th>\n",
              "      <th>Software Version</th>\n",
              "      <th>Starting X-Brick Count</th>\n",
              "      <th>New X-Brick Count</th>\n",
              "      <th>Theater</th>\n",
              "      <th>expansion</th>\n",
              "    </tr>\n",
              "  </thead>\n",
              "  <tbody>\n",
              "    <tr>\n",
              "      <th>459</th>\n",
              "      <td>FNM00160100469</td>\n",
              "      <td>4.0.2-80</td>\n",
              "      <td>2</td>\n",
              "      <td>4</td>\n",
              "      <td>Americas CS Theater</td>\n",
              "      <td>(2, 4)</td>\n",
              "    </tr>\n",
              "    <tr>\n",
              "      <th>828</th>\n",
              "      <td>FNM00162200352</td>\n",
              "      <td>4.0.4-41</td>\n",
              "      <td>6</td>\n",
              "      <td>8</td>\n",
              "      <td>Americas CS Theater</td>\n",
              "      <td>(6, 8)</td>\n",
              "    </tr>\n",
              "    <tr>\n",
              "      <th>166</th>\n",
              "      <td>APM00150426258</td>\n",
              "      <td>4.0.1-41_hotfix_1</td>\n",
              "      <td>4</td>\n",
              "      <td>6</td>\n",
              "      <td>Americas CS Theater</td>\n",
              "      <td>(4, 6)</td>\n",
              "    </tr>\n",
              "    <tr>\n",
              "      <th>453</th>\n",
              "      <td>FNM00151800534</td>\n",
              "      <td>4.0.2-80</td>\n",
              "      <td>2</td>\n",
              "      <td>6</td>\n",
              "      <td>Americas CS Theater</td>\n",
              "      <td>(2, 6)</td>\n",
              "    </tr>\n",
              "    <tr>\n",
              "      <th>578</th>\n",
              "      <td>FNM00151302259</td>\n",
              "      <td>4.0.2-80</td>\n",
              "      <td>2</td>\n",
              "      <td>4</td>\n",
              "      <td>Americas CS Theater</td>\n",
              "      <td>(2, 4)</td>\n",
              "    </tr>\n",
              "  </tbody>\n",
              "</table>\n",
              "</div>"
            ],
            "text/plain": [
              "         Identifier   Software Version  ...              Theater  expansion\n",
              "459  FNM00160100469           4.0.2-80  ...  Americas CS Theater     (2, 4)\n",
              "828  FNM00162200352           4.0.4-41  ...  Americas CS Theater     (6, 8)\n",
              "166  APM00150426258  4.0.1-41_hotfix_1  ...  Americas CS Theater     (4, 6)\n",
              "453  FNM00151800534           4.0.2-80  ...  Americas CS Theater     (2, 6)\n",
              "578  FNM00151302259           4.0.2-80  ...  Americas CS Theater     (2, 4)\n",
              "\n",
              "[5 rows x 6 columns]"
            ]
          },
          "metadata": {
            "tags": []
          },
          "execution_count": 117
        }
      ]
    },
    {
      "cell_type": "code",
      "metadata": {
        "colab": {
          "base_uri": "https://localhost:8080/",
          "height": 225
        },
        "id": "w1PHoHS_eSzM",
        "outputId": "ceff234f-87f7-4190-8c87-3786a5e72e64"
      },
      "source": [
        "# find the most popular OCE path\n",
        "a2 = df.groupby([\"expansion\"]).size().to_frame(name = 'count').reset_index()\n",
        "a2 = a2.sort_values(by=['count'], ascending=False)\n",
        "a2"
      ],
      "execution_count": 118,
      "outputs": [
        {
          "output_type": "execute_result",
          "data": {
            "text/html": [
              "<div>\n",
              "<style scoped>\n",
              "    .dataframe tbody tr th:only-of-type {\n",
              "        vertical-align: middle;\n",
              "    }\n",
              "\n",
              "    .dataframe tbody tr th {\n",
              "        vertical-align: top;\n",
              "    }\n",
              "\n",
              "    .dataframe thead th {\n",
              "        text-align: right;\n",
              "    }\n",
              "</style>\n",
              "<table border=\"1\" class=\"dataframe\">\n",
              "  <thead>\n",
              "    <tr style=\"text-align: right;\">\n",
              "      <th></th>\n",
              "      <th>expansion</th>\n",
              "      <th>count</th>\n",
              "    </tr>\n",
              "  </thead>\n",
              "  <tbody>\n",
              "    <tr>\n",
              "      <th>0</th>\n",
              "      <td>(2, 4)</td>\n",
              "      <td>120</td>\n",
              "    </tr>\n",
              "    <tr>\n",
              "      <th>3</th>\n",
              "      <td>(4, 6)</td>\n",
              "      <td>47</td>\n",
              "    </tr>\n",
              "    <tr>\n",
              "      <th>5</th>\n",
              "      <td>(6, 8)</td>\n",
              "      <td>10</td>\n",
              "    </tr>\n",
              "    <tr>\n",
              "      <th>4</th>\n",
              "      <td>(4, 8)</td>\n",
              "      <td>7</td>\n",
              "    </tr>\n",
              "    <tr>\n",
              "      <th>1</th>\n",
              "      <td>(2, 6)</td>\n",
              "      <td>5</td>\n",
              "    </tr>\n",
              "    <tr>\n",
              "      <th>2</th>\n",
              "      <td>(2, 8)</td>\n",
              "      <td>2</td>\n",
              "    </tr>\n",
              "  </tbody>\n",
              "</table>\n",
              "</div>"
            ],
            "text/plain": [
              "  expansion  count\n",
              "0    (2, 4)    120\n",
              "3    (4, 6)     47\n",
              "5    (6, 8)     10\n",
              "4    (4, 8)      7\n",
              "1    (2, 6)      5\n",
              "2    (2, 8)      2"
            ]
          },
          "metadata": {
            "tags": []
          },
          "execution_count": 118
        }
      ]
    },
    {
      "cell_type": "markdown",
      "metadata": {
        "id": "xBPlPM-0akWN"
      },
      "source": [
        "The most popular OCE path are (2,4) and (4,6). Due to the high demand of OCE expansion path, Dell could increase the inventory of 4 X-Brick and 6 X-Brick."
      ]
    },
    {
      "cell_type": "code",
      "metadata": {
        "colab": {
          "base_uri": "https://localhost:8080/",
          "height": 195
        },
        "id": "XdzdgH244MB0",
        "outputId": "540b6f74-836f-430f-dfce-99391371fee4"
      },
      "source": [
        "# break into detail by adding software version and add release date\n",
        "a = df.groupby([\"Software Version\",\"expansion\"]).size().to_frame(name = 'count').reset_index()\n",
        "a1 = a.sort_values(by=['count'], ascending=False)\n",
        "\n",
        "add_date = pd.merge(a1, \n",
        "                      release_history, \n",
        "                      on ='Software Version', \n",
        "                      how ='left')\n",
        "add_date.head()"
      ],
      "execution_count": 119,
      "outputs": [
        {
          "output_type": "execute_result",
          "data": {
            "text/html": [
              "<div>\n",
              "<style scoped>\n",
              "    .dataframe tbody tr th:only-of-type {\n",
              "        vertical-align: middle;\n",
              "    }\n",
              "\n",
              "    .dataframe tbody tr th {\n",
              "        vertical-align: top;\n",
              "    }\n",
              "\n",
              "    .dataframe thead th {\n",
              "        text-align: right;\n",
              "    }\n",
              "</style>\n",
              "<table border=\"1\" class=\"dataframe\">\n",
              "  <thead>\n",
              "    <tr style=\"text-align: right;\">\n",
              "      <th></th>\n",
              "      <th>Software Version</th>\n",
              "      <th>expansion</th>\n",
              "      <th>count</th>\n",
              "      <th>Release Date</th>\n",
              "    </tr>\n",
              "  </thead>\n",
              "  <tbody>\n",
              "    <tr>\n",
              "      <th>0</th>\n",
              "      <td>4.0.2-80</td>\n",
              "      <td>(2, 4)</td>\n",
              "      <td>51</td>\n",
              "      <td>23-Dec-15</td>\n",
              "    </tr>\n",
              "    <tr>\n",
              "      <th>1</th>\n",
              "      <td>4.0.4-41</td>\n",
              "      <td>(2, 4)</td>\n",
              "      <td>26</td>\n",
              "      <td>28-Apr-16</td>\n",
              "    </tr>\n",
              "    <tr>\n",
              "      <th>2</th>\n",
              "      <td>4.0.2-80</td>\n",
              "      <td>(4, 6)</td>\n",
              "      <td>18</td>\n",
              "      <td>23-Dec-15</td>\n",
              "    </tr>\n",
              "    <tr>\n",
              "      <th>3</th>\n",
              "      <td>4.0.1-41</td>\n",
              "      <td>(2, 4)</td>\n",
              "      <td>14</td>\n",
              "      <td>15-Oct-15</td>\n",
              "    </tr>\n",
              "    <tr>\n",
              "      <th>4</th>\n",
              "      <td>4.0.4-41</td>\n",
              "      <td>(4, 6)</td>\n",
              "      <td>10</td>\n",
              "      <td>28-Apr-16</td>\n",
              "    </tr>\n",
              "  </tbody>\n",
              "</table>\n",
              "</div>"
            ],
            "text/plain": [
              "  Software Version expansion  count Release Date\n",
              "0         4.0.2-80    (2, 4)     51    23-Dec-15\n",
              "1         4.0.4-41    (2, 4)     26    28-Apr-16\n",
              "2         4.0.2-80    (4, 6)     18    23-Dec-15\n",
              "3         4.0.1-41    (2, 4)     14    15-Oct-15\n",
              "4         4.0.4-41    (4, 6)     10    28-Apr-16"
            ]
          },
          "metadata": {
            "tags": []
          },
          "execution_count": 119
        }
      ]
    },
    {
      "cell_type": "markdown",
      "metadata": {
        "id": "lE5wAnprtEyN"
      },
      "source": [
        "The highest expansion frequency is XtremIO 4.0.2-80, which OCE path is 2 X-Brick to 4 X-Brick. The next high frequent expansion version is 4.0.-41 with the same OCE path."
      ]
    },
    {
      "cell_type": "code",
      "metadata": {
        "id": "DRLUEtzdvHeV"
      },
      "source": [
        "# export\n",
        "df.to_csv('OCE Analysis_1.csv', index=False)"
      ],
      "execution_count": 120,
      "outputs": []
    },
    {
      "cell_type": "code",
      "metadata": {
        "id": "reROb_mRwDi2"
      },
      "source": [
        ""
      ],
      "execution_count": 121,
      "outputs": []
    }
  ]
}